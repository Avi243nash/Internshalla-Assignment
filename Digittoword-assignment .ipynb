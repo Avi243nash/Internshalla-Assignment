{
 "cells": [
  {
   "cell_type": "markdown",
   "id": "fd77adeb",
   "metadata": {},
   "source": [
    "# Brute Force Approch"
   ]
  },
  {
   "cell_type": "code",
   "execution_count": 13,
   "id": "18e60119",
   "metadata": {},
   "outputs": [
    {
     "data": {
      "text/plain": [
       "'one hundred forty one crore eighty eight Lakh twenty thousand four hundred twenty '"
      ]
     },
     "execution_count": 13,
     "metadata": {},
     "output_type": "execute_result"
    }
   ],
   "source": [
    "def convert(num):\n",
    "    units = (\"\", \"one \", \"two \", \"three \", \"four \",\"five \", \"six \", \"seven \",\"eight \", \"nine \", \"ten \", \"eleven \", \"twelve \", \"thirteen \", \"fourteen \", \"fifteen \",\"sixteen \", \"seventeen \", \"eighteen \", \"nineteen \")\n",
    "    tens =(\"\", \"\", \"twenty \", \"thirty \", \"forty \", \"fifty \",\"sixty \",\"seventy \",\"eighty \",\"ninety \")\n",
    "\n",
    "    if num < 0:\n",
    "        return \"minus \"+convert(-num)\n",
    "    if num<20:\n",
    "        return  units[num] \n",
    "    if num<100:\n",
    "        return  tens[num // 10]  +units[int(num % 10)] \n",
    "    if num<1000:\n",
    "        return units[num // 100]  +\"hundred \" +convert(int(num % 100))\n",
    "    if num<100000: \n",
    "        return  convert(num // 1000) + \"thousand \" + convert(int(num % 1000))\n",
    "    if num<10000000:\n",
    "        return convert(num//100000) + \"Lakh \" + convert(int(num % 100000))   \n",
    "    return convert(num // 10000000) + \"crore \" + convert(int(num % 10000000))\n",
    "    \n",
    "convert(1418820420)\n"
   ]
  },
  {
   "cell_type": "markdown",
   "id": "6dc139ef",
   "metadata": {},
   "source": [
    "# By num2words Module\n"
   ]
  },
  {
   "cell_type": "code",
   "execution_count": 4,
   "id": "238eedd8",
   "metadata": {},
   "outputs": [
    {
     "name": "stdout",
     "output_type": "stream",
     "text": [
      "Collecting num2words\n",
      "  Downloading num2words-0.5.12-py3-none-any.whl (125 kB)\n",
      "Requirement already satisfied: docopt>=0.6.2 in c:\\python.10\\lib\\site-packages (from num2words) (0.6.2)\n",
      "Installing collected packages: num2words\n",
      "Successfully installed num2words-0.5.12\n",
      "Note: you may need to restart the kernel to use updated packages.\n"
     ]
    },
    {
     "name": "stderr",
     "output_type": "stream",
     "text": [
      "WARNING: You are using pip version 21.2.4; however, version 22.3 is available.\n",
      "You should consider upgrading via the 'C:\\python.10\\python.exe -m pip install --upgrade pip' command.\n"
     ]
    }
   ],
   "source": [
    "pip install num2words"
   ]
  },
  {
   "cell_type": "code",
   "execution_count": 7,
   "id": "91da594c",
   "metadata": {},
   "outputs": [],
   "source": [
    "from num2words import num2words"
   ]
  },
  {
   "cell_type": "code",
   "execution_count": 10,
   "id": "a09d49a9",
   "metadata": {},
   "outputs": [
    {
     "data": {
      "text/plain": [
       "'one million, one hundred and eleven thousand, two hundred and seventy-six'"
      ]
     },
     "execution_count": 10,
     "metadata": {},
     "output_type": "execute_result"
    }
   ],
   "source": [
    "def convert(num):\n",
    "    return num2words(num)\n",
    "\n",
    "convert(1111276)\n",
    "    "
   ]
  },
  {
   "cell_type": "code",
   "execution_count": null,
   "id": "a42b1e66",
   "metadata": {},
   "outputs": [],
   "source": []
  }
 ],
 "metadata": {
  "kernelspec": {
   "display_name": "Python 3 (ipykernel)",
   "language": "python",
   "name": "python3"
  },
  "language_info": {
   "codemirror_mode": {
    "name": "ipython",
    "version": 3
   },
   "file_extension": ".py",
   "mimetype": "text/x-python",
   "name": "python",
   "nbconvert_exporter": "python",
   "pygments_lexer": "ipython3",
   "version": "3.10.2"
  }
 },
 "nbformat": 4,
 "nbformat_minor": 5
}
